{
 "cells": [
  {
   "cell_type": "code",
   "execution_count": null,
   "metadata": {},
   "outputs": [
    {
     "ename": "",
     "evalue": "",
     "output_type": "error",
     "traceback": [
      "\u001b[1;31mFailed to start the Kernel. \n",
      "\u001b[1;31mView Jupyter <a href='command:jupyter.viewOutput'>log</a> for further details."
     ]
    }
   ],
   "source": [
    "using LinearAlgebra\n",
    "using Plots\n",
    "\n",
    "h = 0.05\n",
    "k = 0.025\n",
    "x = 0:h:2\n",
    "t = 0:k:0.02\n",
    "boundary_conditions = [0, 0]\n",
    "n = length(x)\n",
    "m = length(t)\n",
    "T = zeros(n, m)\n",
    "T[1, :] .= boundary_conditions[1]\n",
    "T[end, :] .= boundary_conditions[2]\n",
    "\n",
    "# Initial conditions\n",
    "for i in 1:n\n",
    "    if 0 <= x[i] <= 1\n",
    "        T[i, 1] = x[i]\n",
    "    else\n",
    "        T[i, 1] = -x[i] + 2\n",
    "    end\n",
    "end\n",
    "\n"
   ]
  },
  {
   "cell_type": "code",
   "execution_count": null,
   "metadata": {},
   "outputs": [],
   "source": [
    "factor = k / h^2\n",
    "\n",
    "# Implicit method\n",
    "\n",
    "A = diagm(0 => [-factor for i in 2:n-2], -1 => [-factor for i in 2:n-2],1=>[1 + 2 * factor for i in 1:n-2] )\n",
    "for j in 2:m\n",
    "    b = T[2:n-1, j - 1] .+ [factor * T[1, j]; zeros(n-4); factor * T[end, j]]\n",
    "    solution = A \\ b\n",
    "    T[2:n-1, j] = solution\n",
    "end\n",
    "\n",
    "\n"
   ]
  },
  {
   "cell_type": "code",
   "execution_count": null,
   "metadata": {},
   "outputs": [],
   "source": [
    "plot(x, T, color = [:auto], label = [string(\"t=\", round(t[j], digits=3), \"s\") for j in 1:m],\n",
    "     xlabel = \"distance [m]\", ylabel = \"Temperature [°C]\", legend = true)"
   ]
  }
 ],
 "metadata": {
  "kernelspec": {
   "display_name": "Julia 1.9.1",
   "language": "julia",
   "name": "julia-1.9"
  },
  "language_info": {
   "file_extension": ".jl",
   "mimetype": "application/julia",
   "name": "julia",
   "version": "1.9.3"
  }
 },
 "nbformat": 4,
 "nbformat_minor": 2
}
